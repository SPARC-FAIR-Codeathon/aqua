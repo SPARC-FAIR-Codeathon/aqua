{
 "cells": [
  {
   "cell_type": "markdown",
   "id": "9c7e9551",
   "metadata": {},
   "source": [
    "# Autocomplete"
   ]
  },
  {
   "cell_type": "markdown",
   "id": "13a82401",
   "metadata": {},
   "source": [
    "## Preparation"
   ]
  },
  {
   "cell_type": "code",
   "execution_count": 1,
   "id": "d6578477",
   "metadata": {
    "collapsed": true
   },
   "outputs": [
    {
     "name": "stdout",
     "output_type": "stream",
     "text": [
      "Requirement already satisfied: seaborn in /Library/Frameworks/Python.framework/Versions/3.9/lib/python3.9/site-packages (0.11.1)\n",
      "Requirement already satisfied: numpy>=1.15 in /Library/Frameworks/Python.framework/Versions/3.9/lib/python3.9/site-packages (from seaborn) (1.21.1)\n",
      "Requirement already satisfied: matplotlib>=2.2 in /Library/Frameworks/Python.framework/Versions/3.9/lib/python3.9/site-packages (from seaborn) (3.4.2)\n",
      "Requirement already satisfied: pandas>=0.23 in /Library/Frameworks/Python.framework/Versions/3.9/lib/python3.9/site-packages (from seaborn) (1.2.5)\n",
      "Requirement already satisfied: scipy>=1.0 in /Library/Frameworks/Python.framework/Versions/3.9/lib/python3.9/site-packages (from seaborn) (1.7.0)\n",
      "Requirement already satisfied: python-dateutil>=2.7 in /Library/Frameworks/Python.framework/Versions/3.9/lib/python3.9/site-packages (from matplotlib>=2.2->seaborn) (2.8.1)\n",
      "Requirement already satisfied: cycler>=0.10 in /Library/Frameworks/Python.framework/Versions/3.9/lib/python3.9/site-packages (from matplotlib>=2.2->seaborn) (0.10.0)\n",
      "Requirement already satisfied: pillow>=6.2.0 in /Library/Frameworks/Python.framework/Versions/3.9/lib/python3.9/site-packages (from matplotlib>=2.2->seaborn) (8.2.0)\n",
      "Requirement already satisfied: pyparsing>=2.2.1 in /Library/Frameworks/Python.framework/Versions/3.9/lib/python3.9/site-packages (from matplotlib>=2.2->seaborn) (2.4.7)\n",
      "Requirement already satisfied: kiwisolver>=1.0.1 in /Library/Frameworks/Python.framework/Versions/3.9/lib/python3.9/site-packages (from matplotlib>=2.2->seaborn) (1.3.1)\n",
      "Requirement already satisfied: six in /Library/Frameworks/Python.framework/Versions/3.9/lib/python3.9/site-packages (from cycler>=0.10->matplotlib>=2.2->seaborn) (1.16.0)\n",
      "Requirement already satisfied: pytz>=2017.3 in /Library/Frameworks/Python.framework/Versions/3.9/lib/python3.9/site-packages (from pandas>=0.23->seaborn) (2021.1)\n"
     ]
    }
   ],
   "source": [
    "# prepare the required modules\n",
    "!pip install seaborn"
   ]
  },
  {
   "cell_type": "code",
   "execution_count": 45,
   "id": "4c56cc67",
   "metadata": {},
   "outputs": [],
   "source": [
    "\"\"\"Run these line to load the available datasets\"\"\"\n",
    "import json\n",
    "\n",
    "# load data test pure\n",
    "with open('test_autocomplete_pure.json', 'r') as fp:\n",
    "    testwords = json.load(fp)\n",
    "    \n",
    "# load data test with typo\n",
    "with open('test_autocomplete_typo.json', 'r') as fp:\n",
    "    test_1typo = json.load(fp)"
   ]
  },
  {
   "cell_type": "code",
   "execution_count": 46,
   "id": "733fb474",
   "metadata": {},
   "outputs": [],
   "source": [
    "# method to populate experiment result\n",
    "def getAutoCompleteData(url, file, datatest, method, dataname):\n",
    "    import requests\n",
    "    from time import time\n",
    "    start = time()\n",
    "    results = {}\n",
    "    \n",
    "    for word in datatest:\n",
    "        start_in = time()\n",
    "        response = requests.get(url+word.strip())\n",
    "        results[word] = [method, dataname, response.json(), len(response.json()), len(word), time()-start_in]\n",
    "        \n",
    "    print((time()-start)/len(datatest), 'seconds')\n",
    "    with open(file, 'w') as fp:\n",
    "        json.dump(results, fp)\n",
    "    return results"
   ]
  },
  {
   "cell_type": "markdown",
   "id": "9c9b7357",
   "metadata": {},
   "source": [
    "## Analysis"
   ]
  },
  {
   "cell_type": "code",
   "execution_count": 48,
   "id": "8c0c4deb",
   "metadata": {},
   "outputs": [
    {
     "name": "stdout",
     "output_type": "stream",
     "text": [
      "0.01148000955581665 seconds\n"
     ]
    }
   ],
   "source": [
    "# testing fast-autocomplete\n",
    "url = 'http://130.216.216.55/autocomplete?query='\n",
    "results_pure_fa = getAutoCompleteData(url, 'results_pure_fa.json', testwords, 'fast', '0 typo')"
   ]
  },
  {
   "cell_type": "code",
   "execution_count": 49,
   "id": "077adbb1",
   "metadata": {},
   "outputs": [
    {
     "name": "stdout",
     "output_type": "stream",
     "text": [
      "0.8254226553440094 seconds\n"
     ]
    }
   ],
   "source": [
    "# testing SciGraph\n",
    "url = 'http://130.216.216.55/autocomplete_sc?query='\n",
    "results_pure_sc = getAutoCompleteData(url, 'results_pure_sc.json', testwords, 'SciGraph', '0 typo')"
   ]
  },
  {
   "cell_type": "code",
   "execution_count": 50,
   "id": "7ce59d3f",
   "metadata": {},
   "outputs": [
    {
     "name": "stdout",
     "output_type": "stream",
     "text": [
      "0.010964785814285278 seconds\n"
     ]
    }
   ],
   "source": [
    "# testing fast-autocomplete\n",
    "url = 'http://130.216.216.55/autocomplete?query='\n",
    "results_1typo_fa = getAutoCompleteData(url, 'results_1typo_fa.json', test_1typo, 'fast', '1 typo')"
   ]
  },
  {
   "cell_type": "code",
   "execution_count": 51,
   "id": "151e45ee",
   "metadata": {
    "scrolled": true
   },
   "outputs": [
    {
     "name": "stdout",
     "output_type": "stream",
     "text": [
      "0.8379882657527924 seconds\n"
     ]
    }
   ],
   "source": [
    "# testing SciGraph\n",
    "url = 'http://130.216.216.55/autocomplete_sc?query='\n",
    "results_1typo_sc = getAutoCompleteData(url, 'results_1typo_sc.json', test_1typo, 'SciGraph', '1 typo')"
   ]
  },
  {
   "cell_type": "markdown",
   "id": "51e7362a",
   "metadata": {},
   "source": [
    "## Autocomplete Analysis"
   ]
  },
  {
   "cell_type": "code",
   "execution_count": 52,
   "id": "cf830767",
   "metadata": {
    "scrolled": true
   },
   "outputs": [
    {
     "data": {
      "text/html": [
       "<div>\n",
       "<style scoped>\n",
       "    .dataframe tbody tr th:only-of-type {\n",
       "        vertical-align: middle;\n",
       "    }\n",
       "\n",
       "    .dataframe tbody tr th {\n",
       "        vertical-align: top;\n",
       "    }\n",
       "\n",
       "    .dataframe thead th {\n",
       "        text-align: right;\n",
       "    }\n",
       "</style>\n",
       "<table border=\"1\" class=\"dataframe\">\n",
       "  <thead>\n",
       "    <tr style=\"text-align: right;\">\n",
       "      <th></th>\n",
       "      <th>method</th>\n",
       "      <th>dataname</th>\n",
       "      <th>returns</th>\n",
       "      <th># of return</th>\n",
       "      <th># of characters in a query</th>\n",
       "      <th>time (second)</th>\n",
       "    </tr>\n",
       "  </thead>\n",
       "  <tbody>\n",
       "    <tr>\n",
       "      <th>0</th>\n",
       "      <td>fast</td>\n",
       "      <td>1 typo</td>\n",
       "      <td>[sinonasal, sinonasal papilloma, sinonasal und...</td>\n",
       "      <td>3</td>\n",
       "      <td>9</td>\n",
       "      <td>0.010025</td>\n",
       "    </tr>\n",
       "    <tr>\n",
       "      <th>1</th>\n",
       "      <td>fast</td>\n",
       "      <td>1 typo</td>\n",
       "      <td>[acid, acid oxidase, acid oxidation, acid o-li...</td>\n",
       "      <td>10</td>\n",
       "      <td>8</td>\n",
       "      <td>0.008910</td>\n",
       "    </tr>\n",
       "    <tr>\n",
       "      <th>2</th>\n",
       "      <td>fast</td>\n",
       "      <td>1 typo</td>\n",
       "      <td>[chondrichthyes]</td>\n",
       "      <td>1</td>\n",
       "      <td>14</td>\n",
       "      <td>0.010226</td>\n",
       "    </tr>\n",
       "    <tr>\n",
       "      <th>3</th>\n",
       "      <td>fast</td>\n",
       "      <td>1 typo</td>\n",
       "      <td>[turbellarian, turbellarian platyhelminths]</td>\n",
       "      <td>2</td>\n",
       "      <td>12</td>\n",
       "      <td>0.008797</td>\n",
       "    </tr>\n",
       "    <tr>\n",
       "      <th>4</th>\n",
       "      <td>fast</td>\n",
       "      <td>1 typo</td>\n",
       "      <td>[rigb]</td>\n",
       "      <td>1</td>\n",
       "      <td>5</td>\n",
       "      <td>0.008155</td>\n",
       "    </tr>\n",
       "    <tr>\n",
       "      <th>...</th>\n",
       "      <td>...</td>\n",
       "      <td>...</td>\n",
       "      <td>...</td>\n",
       "      <td>...</td>\n",
       "      <td>...</td>\n",
       "      <td>...</td>\n",
       "    </tr>\n",
       "    <tr>\n",
       "      <th>795</th>\n",
       "      <td>SciGraph</td>\n",
       "      <td>1 typo</td>\n",
       "      <td>[]</td>\n",
       "      <td>0</td>\n",
       "      <td>7</td>\n",
       "      <td>0.866398</td>\n",
       "    </tr>\n",
       "    <tr>\n",
       "      <th>796</th>\n",
       "      <td>SciGraph</td>\n",
       "      <td>1 typo</td>\n",
       "      <td>[]</td>\n",
       "      <td>0</td>\n",
       "      <td>3</td>\n",
       "      <td>0.832430</td>\n",
       "    </tr>\n",
       "    <tr>\n",
       "      <th>797</th>\n",
       "      <td>SciGraph</td>\n",
       "      <td>1 typo</td>\n",
       "      <td>[]</td>\n",
       "      <td>0</td>\n",
       "      <td>6</td>\n",
       "      <td>0.826309</td>\n",
       "    </tr>\n",
       "    <tr>\n",
       "      <th>798</th>\n",
       "      <td>SciGraph</td>\n",
       "      <td>1 typo</td>\n",
       "      <td>[]</td>\n",
       "      <td>0</td>\n",
       "      <td>9</td>\n",
       "      <td>0.827874</td>\n",
       "    </tr>\n",
       "    <tr>\n",
       "      <th>799</th>\n",
       "      <td>SciGraph</td>\n",
       "      <td>1 typo</td>\n",
       "      <td>[]</td>\n",
       "      <td>0</td>\n",
       "      <td>7</td>\n",
       "      <td>0.836652</td>\n",
       "    </tr>\n",
       "  </tbody>\n",
       "</table>\n",
       "<p>800 rows × 6 columns</p>\n",
       "</div>"
      ],
      "text/plain": [
       "       method dataname                                            returns  \\\n",
       "0        fast   1 typo  [sinonasal, sinonasal papilloma, sinonasal und...   \n",
       "1        fast   1 typo  [acid, acid oxidase, acid oxidation, acid o-li...   \n",
       "2        fast   1 typo                                   [chondrichthyes]   \n",
       "3        fast   1 typo        [turbellarian, turbellarian platyhelminths]   \n",
       "4        fast   1 typo                                             [rigb]   \n",
       "..        ...      ...                                                ...   \n",
       "795  SciGraph   1 typo                                                 []   \n",
       "796  SciGraph   1 typo                                                 []   \n",
       "797  SciGraph   1 typo                                                 []   \n",
       "798  SciGraph   1 typo                                                 []   \n",
       "799  SciGraph   1 typo                                                 []   \n",
       "\n",
       "     # of return  # of characters in a query  time (second)  \n",
       "0              3                           9       0.010025  \n",
       "1             10                           8       0.008910  \n",
       "2              1                          14       0.010226  \n",
       "3              2                          12       0.008797  \n",
       "4              1                           5       0.008155  \n",
       "..           ...                         ...            ...  \n",
       "795            0                           7       0.866398  \n",
       "796            0                           3       0.832430  \n",
       "797            0                           6       0.826309  \n",
       "798            0                           9       0.827874  \n",
       "799            0                           7       0.836652  \n",
       "\n",
       "[800 rows x 6 columns]"
      ]
     },
     "execution_count": 52,
     "metadata": {},
     "output_type": "execute_result"
    }
   ],
   "source": [
    "# Pure datatest fast-autocomplete vs SciGraph\n",
    "\n",
    "import numpy as np\n",
    "import pandas as pd\n",
    "import matplotlib.pyplot as plt\n",
    "import seaborn as sns\n",
    "sns.set_theme(style=\"darkgrid\")\n",
    "\n",
    "\n",
    "data = list(results_1typo_fa.values()) + list(results_pure_fa.values()) + list(results_pure_sc.values()) + list(results_1typo_sc.values())\n",
    "df = pd.DataFrame(data, columns = ['method', 'dataname', 'returns', '# of return', '# of characters in a query', 'time (second)'])\n",
    "df"
   ]
  },
  {
   "cell_type": "code",
   "execution_count": 53,
   "id": "0e368d22",
   "metadata": {},
   "outputs": [
    {
     "data": {
      "text/html": [
       "<div>\n",
       "<style scoped>\n",
       "    .dataframe tbody tr th:only-of-type {\n",
       "        vertical-align: middle;\n",
       "    }\n",
       "\n",
       "    .dataframe tbody tr th {\n",
       "        vertical-align: top;\n",
       "    }\n",
       "\n",
       "    .dataframe thead th {\n",
       "        text-align: right;\n",
       "    }\n",
       "</style>\n",
       "<table border=\"1\" class=\"dataframe\">\n",
       "  <thead>\n",
       "    <tr style=\"text-align: right;\">\n",
       "      <th></th>\n",
       "      <th>method</th>\n",
       "      <th>dataname</th>\n",
       "      <th>returns</th>\n",
       "      <th># of return</th>\n",
       "      <th># of characters in a query</th>\n",
       "      <th>time (second)</th>\n",
       "      <th>method &amp; datatest</th>\n",
       "    </tr>\n",
       "  </thead>\n",
       "  <tbody>\n",
       "    <tr>\n",
       "      <th>0</th>\n",
       "      <td>fast</td>\n",
       "      <td>1 typo</td>\n",
       "      <td>[sinonasal, sinonasal papilloma, sinonasal und...</td>\n",
       "      <td>3</td>\n",
       "      <td>9</td>\n",
       "      <td>0.010025</td>\n",
       "      <td>fast + 1 typo</td>\n",
       "    </tr>\n",
       "    <tr>\n",
       "      <th>1</th>\n",
       "      <td>fast</td>\n",
       "      <td>1 typo</td>\n",
       "      <td>[acid, acid oxidase, acid oxidation, acid o-li...</td>\n",
       "      <td>10</td>\n",
       "      <td>8</td>\n",
       "      <td>0.008910</td>\n",
       "      <td>fast + 1 typo</td>\n",
       "    </tr>\n",
       "    <tr>\n",
       "      <th>2</th>\n",
       "      <td>fast</td>\n",
       "      <td>1 typo</td>\n",
       "      <td>[chondrichthyes]</td>\n",
       "      <td>1</td>\n",
       "      <td>14</td>\n",
       "      <td>0.010226</td>\n",
       "      <td>fast + 1 typo</td>\n",
       "    </tr>\n",
       "    <tr>\n",
       "      <th>3</th>\n",
       "      <td>fast</td>\n",
       "      <td>1 typo</td>\n",
       "      <td>[turbellarian, turbellarian platyhelminths]</td>\n",
       "      <td>2</td>\n",
       "      <td>12</td>\n",
       "      <td>0.008797</td>\n",
       "      <td>fast + 1 typo</td>\n",
       "    </tr>\n",
       "    <tr>\n",
       "      <th>4</th>\n",
       "      <td>fast</td>\n",
       "      <td>1 typo</td>\n",
       "      <td>[rigb]</td>\n",
       "      <td>1</td>\n",
       "      <td>5</td>\n",
       "      <td>0.008155</td>\n",
       "      <td>fast + 1 typo</td>\n",
       "    </tr>\n",
       "    <tr>\n",
       "      <th>...</th>\n",
       "      <td>...</td>\n",
       "      <td>...</td>\n",
       "      <td>...</td>\n",
       "      <td>...</td>\n",
       "      <td>...</td>\n",
       "      <td>...</td>\n",
       "      <td>...</td>\n",
       "    </tr>\n",
       "    <tr>\n",
       "      <th>795</th>\n",
       "      <td>SciGraph</td>\n",
       "      <td>1 typo</td>\n",
       "      <td>[]</td>\n",
       "      <td>0</td>\n",
       "      <td>7</td>\n",
       "      <td>0.866398</td>\n",
       "      <td>SciGraph + 1 typo</td>\n",
       "    </tr>\n",
       "    <tr>\n",
       "      <th>796</th>\n",
       "      <td>SciGraph</td>\n",
       "      <td>1 typo</td>\n",
       "      <td>[]</td>\n",
       "      <td>0</td>\n",
       "      <td>3</td>\n",
       "      <td>0.832430</td>\n",
       "      <td>SciGraph + 1 typo</td>\n",
       "    </tr>\n",
       "    <tr>\n",
       "      <th>797</th>\n",
       "      <td>SciGraph</td>\n",
       "      <td>1 typo</td>\n",
       "      <td>[]</td>\n",
       "      <td>0</td>\n",
       "      <td>6</td>\n",
       "      <td>0.826309</td>\n",
       "      <td>SciGraph + 1 typo</td>\n",
       "    </tr>\n",
       "    <tr>\n",
       "      <th>798</th>\n",
       "      <td>SciGraph</td>\n",
       "      <td>1 typo</td>\n",
       "      <td>[]</td>\n",
       "      <td>0</td>\n",
       "      <td>9</td>\n",
       "      <td>0.827874</td>\n",
       "      <td>SciGraph + 1 typo</td>\n",
       "    </tr>\n",
       "    <tr>\n",
       "      <th>799</th>\n",
       "      <td>SciGraph</td>\n",
       "      <td>1 typo</td>\n",
       "      <td>[]</td>\n",
       "      <td>0</td>\n",
       "      <td>7</td>\n",
       "      <td>0.836652</td>\n",
       "      <td>SciGraph + 1 typo</td>\n",
       "    </tr>\n",
       "  </tbody>\n",
       "</table>\n",
       "<p>800 rows × 7 columns</p>\n",
       "</div>"
      ],
      "text/plain": [
       "       method dataname                                            returns  \\\n",
       "0        fast   1 typo  [sinonasal, sinonasal papilloma, sinonasal und...   \n",
       "1        fast   1 typo  [acid, acid oxidase, acid oxidation, acid o-li...   \n",
       "2        fast   1 typo                                   [chondrichthyes]   \n",
       "3        fast   1 typo        [turbellarian, turbellarian platyhelminths]   \n",
       "4        fast   1 typo                                             [rigb]   \n",
       "..        ...      ...                                                ...   \n",
       "795  SciGraph   1 typo                                                 []   \n",
       "796  SciGraph   1 typo                                                 []   \n",
       "797  SciGraph   1 typo                                                 []   \n",
       "798  SciGraph   1 typo                                                 []   \n",
       "799  SciGraph   1 typo                                                 []   \n",
       "\n",
       "     # of return  # of characters in a query  time (second)  method & datatest  \n",
       "0              3                           9       0.010025      fast + 1 typo  \n",
       "1             10                           8       0.008910      fast + 1 typo  \n",
       "2              1                          14       0.010226      fast + 1 typo  \n",
       "3              2                          12       0.008797      fast + 1 typo  \n",
       "4              1                           5       0.008155      fast + 1 typo  \n",
       "..           ...                         ...            ...                ...  \n",
       "795            0                           7       0.866398  SciGraph + 1 typo  \n",
       "796            0                           3       0.832430  SciGraph + 1 typo  \n",
       "797            0                           6       0.826309  SciGraph + 1 typo  \n",
       "798            0                           9       0.827874  SciGraph + 1 typo  \n",
       "799            0                           7       0.836652  SciGraph + 1 typo  \n",
       "\n",
       "[800 rows x 7 columns]"
      ]
     },
     "execution_count": 53,
     "metadata": {},
     "output_type": "execute_result"
    }
   ],
   "source": [
    "df['method & datatest'] = df['method'] + ' + ' + df['dataname']\n",
    "df"
   ]
  },
  {
   "cell_type": "code",
   "execution_count": 54,
   "id": "a07c0607",
   "metadata": {
    "scrolled": false
   },
   "outputs": [
    {
     "data": {
      "image/png": "[encoded data removed]",
      "text/plain": [
       "<Figure size 560.1x360 with 1 Axes>"
      ]
     },
     "metadata": {},
     "output_type": "display_data"
    }
   ],
   "source": [
    "sns.set_style(\"whitegrid\")\n",
    "df['method + datatest'] = df['method'] + ' + ' + df['dataname']\n",
    "sns.relplot(x=\"# of characters in a query\", y=\"time (second)\", hue=\"method + datatest\", kind=\"line\", data=df, height=5, aspect=6/5);\n",
    "plt.savefig(\"execution_time.pdf\", dpi=300)\n",
    "plt.savefig(\"execution_time.png\", dpi=300)"
   ]
  },
  {
   "cell_type": "code",
   "execution_count": 55,
   "id": "84f698e8",
   "metadata": {},
   "outputs": [
    {
     "data": {
      "image/png": "[encoded data removed]",
      "text/plain": [
       "<Figure size 992.1x720 with 1 Axes>"
      ]
     },
     "metadata": {},
     "output_type": "display_data"
    }
   ],
   "source": [
    "sns.set_style(\"whitegrid\")\n",
    "sns.relplot(x=\"# of characters in a query\", y=\"# of return\", hue=\"method + datatest\", kind=\"line\", data=df, height=10, aspect=12/10);\n",
    "plt.savefig(\"return_number.pdf\", dpi=300)\n",
    "plt.savefig(\"return_number.png\", dpi=300)"
   ]
  },
  {
   "cell_type": "markdown",
   "id": "3e48b69e",
   "metadata": {},
   "source": [
    "# Query performance"
   ]
  },
  {
   "cell_type": "markdown",
   "id": "77f4622f",
   "metadata": {},
   "source": [
    "## Preparation"
   ]
  },
  {
   "cell_type": "code",
   "execution_count": 18,
   "id": "c324b08d",
   "metadata": {
    "code_folding": []
   },
   "outputs": [],
   "source": [
    "# load datatest\n",
    "import json\n",
    "\n",
    "with open('query_datatest.json', 'r') as fp:\n",
    "    datatests = json.load(fp)\n",
    "    \n",
    "with open('author_datatest.json', 'r') as fp:\n",
    "    datatests_author = json.load(fp)"
   ]
  },
  {
   "cell_type": "code",
   "execution_count": 180,
   "id": "93d94d50",
   "metadata": {},
   "outputs": [],
   "source": [
    "# get dataset id with provided query\n",
    "# using fuzzy search, for fields of:\n",
    "# \"organisms.primary.species.originalName\",\n",
    "# \"item.keywords.keyword\",\n",
    "# \"item.name\",\n",
    "# \"item.description\",\n",
    "# \"item.readme.description\",\n",
    "# \"anatomy.organ.name\"\n",
    "\n",
    "query = {\n",
    "    \"size\": 50,\n",
    "    \"from\": 0,\n",
    "    \"query\": {\n",
    "        \"multi_match\": {\n",
    "          \"fields\":  [ \"organisms.primary.species.originalName\",\n",
    "                       \"item.keywords.keyword\",\n",
    "                       \"item.name\",\n",
    "                       \"item.description\",\n",
    "                       \"item.readme.description\",\n",
    "                       \"anatomy.organ.name\",\n",
    "                       \"contributors.last.name\",\n",
    "                       \"contributors.first.name\",\n",
    "                       \"contributors.name\",\n",
    "                     ],\n",
    "          \"query\": \"query keywords\",\n",
    "          \"fuzziness\": \"AUTO\"\n",
    "            }\n",
    "          },\n",
    "        \"_source\":{\n",
    "            \"includes\":[\"pennsieve.identifier\"],\n",
    "        }\n",
    "  }\n",
    "\n",
    "url = 'https://scicrunch.org/api/1/elastic/SPARC_PortalDatasets_pr/_search?api_key=6u6izfSzCHTqVvphJ28lUbAtX0nXGhrd'\n",
    "\n",
    "def getESDataset(keyword):\n",
    "    query['query']['multi_match']['query'] = keyword\n",
    "    response = requests.post(url=url, json=query)\n",
    "    dsList = []\n",
    "    for hit in response.json()['hits']['hits']:\n",
    "        try:\n",
    "            dsList += [hit['_source']['pennsieve']['identifier']]\n",
    "        except:\n",
    "            pass\n",
    "    return dsList"
   ]
  },
  {
   "cell_type": "code",
   "execution_count": 272,
   "id": "7080b8be",
   "metadata": {
    "code_folding": []
   },
   "outputs": [],
   "source": [
    "def getResults(datatest, approach):\n",
    "    result = {}\n",
    "    for term_num, d1 in datatest.items():\n",
    "        result[term_num] = {}\n",
    "        for typo, d2 in d1.items():\n",
    "            result[term_num][typo] = {}\n",
    "            print('\\n getting the result of %s - %s using %s'%(term_num, typo, approach))\n",
    "            for count, keyword in enumerate(d2):\n",
    "                if keyword not in result[term_num][typo]:\n",
    "                    if approach == 'AQUA':\n",
    "                        result[term_num][typo][keyword] = getESDataset(getSpellCorrection(keyword))\n",
    "                    elif approach == 'ES':\n",
    "                        result[term_num][typo][keyword] = getESDataset(keyword)\n",
    "                if count%20 == 0: print(count, end=' ')\n",
    "    return result"
   ]
  },
  {
   "cell_type": "markdown",
   "id": "e30b70f9",
   "metadata": {},
   "source": [
    "## Get AQUA result"
   ]
  },
  {
   "cell_type": "code",
   "execution_count": 271,
   "id": "5d8ece96",
   "metadata": {},
   "outputs": [],
   "source": [
    "from symspellpy import SymSpell, Verbosity\n",
    "\n",
    "def __loadSpellChecker():\n",
    "    \"\"\"\n",
    "    Loading spelling checker n-gram model to symspellpy\n",
    "    \"\"\"\n",
    "    from symspellpy import SymSpell, Verbosity\n",
    "    max_edit_distance_dictionary = 3\n",
    "    prefix_length = 6\n",
    "    sym_spell = SymSpell(max_edit_distance_dictionary, prefix_length)\n",
    "    sym_spell.load_pickle('_spell_model_ds')\n",
    "    return sym_spell\n",
    "\n",
    "\n",
    "\n",
    "# get symspellpy pipeline\n",
    "sym_spell = __loadSpellChecker()\n",
    "\n",
    "def getSpellCorrection(query):\n",
    "    return sym_spell.word_segmentation(query).corrected_string"
   ]
  },
  {
   "cell_type": "markdown",
   "id": "6883aaaa",
   "metadata": {},
   "source": [
    "### Keyword as query"
   ]
  },
  {
   "cell_type": "code",
   "execution_count": 313,
   "id": "0c01554f",
   "metadata": {
    "collapsed": true
   },
   "outputs": [
    {
     "name": "stdout",
     "output_type": "stream",
     "text": [
      "\n",
      " getting the result of 1 - 0 typo using AQUA\n",
      "0 20 40 \n",
      " getting the result of 1 - 1 del using AQUA\n",
      "0 20 40 \n",
      " getting the result of 1 - 1 insert using AQUA\n",
      "0 20 40 \n",
      " getting the result of 1 - 1 replace using AQUA\n",
      "0 20 40 \n",
      " getting the result of 2 - 0 typo using AQUA\n",
      "0 20 40 \n",
      " getting the result of 2 - 1 del using AQUA\n",
      "0 20 40 \n",
      " getting the result of 2 - 1 insert using AQUA\n",
      "0 20 40 \n",
      " getting the result of 2 - 1 replace using AQUA\n",
      "0 20 40 \n",
      " getting the result of 2 - no space using AQUA\n",
      "0 20 40 \n",
      " getting the result of 2 - no space 1 distance using AQUA\n",
      "0 20 40 \n",
      " getting the result of 2 - no space 2 distance using AQUA\n",
      "0 20 40 \n",
      " getting the result of 2 - no space 3 distance using AQUA\n",
      "0 20 \n",
      " getting the result of 2 - 3 distance using AQUA\n",
      "0 20 40 \n",
      " getting the result of 3 - 0 typo using AQUA\n",
      "0 20 40 \n",
      " getting the result of 3 - 1 del using AQUA\n",
      "0 20 40 \n",
      " getting the result of 3 - 1 insert using AQUA\n",
      "0 20 40 \n",
      " getting the result of 3 - 1 replace using AQUA\n",
      "0 20 40 \n",
      " getting the result of 3 - no space using AQUA\n",
      "0 20 40 \n",
      " getting the result of 3 - no space 1 distance using AQUA\n",
      "0 20 40 \n",
      " getting the result of 3 - no space 2 distance using AQUA\n",
      "0 20 40 \n",
      " getting the result of 3 - no space 3 distance using AQUA\n",
      "0 20 40 \n",
      " getting the result of 3 - 3 distance using AQUA\n",
      "0 20 40 "
     ]
    }
   ],
   "source": [
    "# get results using AQUA where the key is keywords\n",
    "aqua_result = getResults(datatests, 'AQUA')"
   ]
  },
  {
   "cell_type": "code",
   "execution_count": 314,
   "id": "43999c62",
   "metadata": {},
   "outputs": [],
   "source": [
    "# save to json\n",
    "with open('search_aqua_result.json', 'w') as fp:\n",
    "    json.dump(aqua_result, fp)"
   ]
  },
  {
   "cell_type": "code",
   "execution_count": 31,
   "id": "a16bfdb4",
   "metadata": {},
   "outputs": [],
   "source": [
    "# open json\n",
    "with open('search_aqua_result.json', 'r') as fp:\n",
    "    aqua_result = json.load(fp)"
   ]
  },
  {
   "cell_type": "markdown",
   "id": "29cf47bd",
   "metadata": {},
   "source": [
    "### Author as query"
   ]
  },
  {
   "cell_type": "code",
   "execution_count": 277,
   "id": "626521ad",
   "metadata": {
    "collapsed": true
   },
   "outputs": [
    {
     "name": "stdout",
     "output_type": "stream",
     "text": [
      "\n",
      " getting the result of 1 - 0 typo using AQUA\n",
      "0 20 40 \n",
      " getting the result of 1 - 1 del using AQUA\n",
      "0 20 40 \n",
      " getting the result of 1 - 1 insert using AQUA\n",
      "0 20 40 \n",
      " getting the result of 1 - 1 replace using AQUA\n",
      "0 20 40 \n",
      " getting the result of 2 - 0 typo using AQUA\n",
      "0 20 40 \n",
      " getting the result of 2 - 1 del using AQUA\n",
      "0 20 40 \n",
      " getting the result of 2 - 1 insert using AQUA\n",
      "0 20 40 \n",
      " getting the result of 2 - 1 replace using AQUA\n",
      "0 20 40 \n",
      " getting the result of 2 - no space using AQUA\n",
      "0 20 40 "
     ]
    }
   ],
   "source": [
    "# get results using AQUA where the key is author\n",
    "aqua_result_author = getResults(datatests_author, 'AQUA')"
   ]
  },
  {
   "cell_type": "code",
   "execution_count": 212,
   "id": "bf1384c2",
   "metadata": {},
   "outputs": [],
   "source": [
    "# save to json\n",
    "with open('search_aqua_result_author.json', 'w') as fp:\n",
    "    json.dump(aqua_result_author, fp)"
   ]
  },
  {
   "cell_type": "code",
   "execution_count": 30,
   "id": "b885c9f0",
   "metadata": {},
   "outputs": [],
   "source": [
    "# open json\n",
    "with open('search_aqua_result_author.json', 'r') as fp:\n",
    "    aqua_result_author = json.load(fp)"
   ]
  },
  {
   "cell_type": "markdown",
   "id": "93e91c7b",
   "metadata": {},
   "source": [
    "## Get elasticsearch result"
   ]
  },
  {
   "cell_type": "markdown",
   "id": "811ef274",
   "metadata": {},
   "source": [
    "### Keyword as query"
   ]
  },
  {
   "cell_type": "code",
   "execution_count": 315,
   "id": "a90b06b4",
   "metadata": {
    "collapsed": true
   },
   "outputs": [
    {
     "name": "stdout",
     "output_type": "stream",
     "text": [
      "\n",
      " getting the result of 1 - 0 typo using ES\n",
      "0 20 40 \n",
      " getting the result of 1 - 1 del using ES\n",
      "0 20 40 \n",
      " getting the result of 1 - 1 insert using ES\n",
      "0 20 40 \n",
      " getting the result of 1 - 1 replace using ES\n",
      "0 20 40 \n",
      " getting the result of 2 - 0 typo using ES\n",
      "0 20 40 \n",
      " getting the result of 2 - 1 del using ES\n",
      "0 20 40 \n",
      " getting the result of 2 - 1 insert using ES\n",
      "0 20 40 \n",
      " getting the result of 2 - 1 replace using ES\n",
      "0 20 40 \n",
      " getting the result of 2 - no space using ES\n",
      "0 20 40 \n",
      " getting the result of 2 - no space 1 distance using ES\n",
      "0 20 40 \n",
      " getting the result of 2 - no space 2 distance using ES\n",
      "0 20 40 \n",
      " getting the result of 2 - no space 3 distance using ES\n",
      "0 20 \n",
      " getting the result of 2 - 3 distance using ES\n",
      "0 20 40 \n",
      " getting the result of 3 - 0 typo using ES\n",
      "0 20 40 \n",
      " getting the result of 3 - 1 del using ES\n",
      "0 20 40 \n",
      " getting the result of 3 - 1 insert using ES\n",
      "0 20 40 \n",
      " getting the result of 3 - 1 replace using ES\n",
      "0 20 40 \n",
      " getting the result of 3 - no space using ES\n",
      "0 20 40 \n",
      " getting the result of 3 - no space 1 distance using ES\n",
      "0 20 40 \n",
      " getting the result of 3 - no space 2 distance using ES\n",
      "0 20 40 \n",
      " getting the result of 3 - no space 3 distance using ES\n",
      "0 20 40 \n",
      " getting the result of 3 - 3 distance using ES\n",
      "0 20 40 "
     ]
    }
   ],
   "source": [
    "# get results using ES where the key is keywords\n",
    "es_result = getResults(datatests, 'ES')"
   ]
  },
  {
   "cell_type": "code",
   "execution_count": 316,
   "id": "b652b256",
   "metadata": {},
   "outputs": [],
   "source": [
    "# save to json\n",
    "with open('search_es_result.json', 'w') as fp:\n",
    "    json.dump(es_result, fp)"
   ]
  },
  {
   "cell_type": "code",
   "execution_count": 33,
   "id": "1abd9018",
   "metadata": {},
   "outputs": [],
   "source": [
    "# open json\n",
    "with open('search_es_result.json', 'r') as fp:\n",
    "    es_result = json.load(fp)"
   ]
  },
  {
   "cell_type": "markdown",
   "id": "18382c34",
   "metadata": {},
   "source": [
    "### Author as query"
   ]
  },
  {
   "cell_type": "code",
   "execution_count": 196,
   "id": "2972c24f",
   "metadata": {
    "collapsed": true
   },
   "outputs": [
    {
     "name": "stdout",
     "output_type": "stream",
     "text": [
      "\n",
      " getting the result of 1 - 0 typo using AQUA\n",
      "0 20 40 \n",
      " getting the result of 1 - 1 del using AQUA\n",
      "0 20 40 \n",
      " getting the result of 1 - 1 insert using AQUA\n",
      "0 20 40 \n",
      " getting the result of 1 - 1 replace using AQUA\n",
      "0 20 40 \n",
      " getting the result of 2 - 0 typo using AQUA\n",
      "0 20 40 \n",
      " getting the result of 2 - 1 del using AQUA\n",
      "0 20 40 \n",
      " getting the result of 2 - 1 insert using AQUA\n",
      "0 20 40 \n",
      " getting the result of 2 - 1 replace using AQUA\n",
      "0 20 40 \n",
      " getting the result of 2 - no space using AQUA\n",
      "0 20 40 "
     ]
    }
   ],
   "source": [
    "# get results using ES where the key is author\n",
    "es_result_author = getResults(datatests_author, 'ES')"
   ]
  },
  {
   "cell_type": "code",
   "execution_count": null,
   "id": "1caba752",
   "metadata": {},
   "outputs": [],
   "source": [
    "# save to json\n",
    "with open('search_es_result_author.json', 'w') as fp:\n",
    "    json.dump(es_result_author, fp)"
   ]
  },
  {
   "cell_type": "code",
   "execution_count": 28,
   "id": "92a11b8d",
   "metadata": {},
   "outputs": [],
   "source": [
    "with open('search_es_result_author.json', 'r') as fp:\n",
    "    es_result_author = json.load(fp)"
   ]
  },
  {
   "cell_type": "markdown",
   "id": "ced9958b",
   "metadata": {
    "code_folding": []
   },
   "source": [
    "## Performance analysis"
   ]
  },
  {
   "cell_type": "code",
   "execution_count": 26,
   "id": "9f2e828b",
   "metadata": {},
   "outputs": [],
   "source": [
    "# change result to binary\n",
    "import copy\n",
    "def result2binary(datatest, result):\n",
    "    result = copy.deepcopy(result)\n",
    "    for term_num, d1 in result.items():\n",
    "        for typo, d2 in d1.items():\n",
    "            for keyword in d2:\n",
    "                for count, idx in enumerate(d2[keyword]):\n",
    "                    if idx in datatest[term_num][typo][keyword]:\n",
    "                        d2[keyword][count] = 1\n",
    "                    else:\n",
    "                        d2[keyword][count] = 0\n",
    "    return result"
   ]
  },
  {
   "cell_type": "code",
   "execution_count": 34,
   "id": "f26e2581",
   "metadata": {},
   "outputs": [],
   "source": [
    "r_aqua = result2binary(datatests, aqua_result)\n",
    "r_a_aqua = result2binary(datatests_author, aqua_result_author)\n",
    "r_es = result2binary(datatests, es_result)\n",
    "r_a_es = result2binary(datatests_author, es_result_author)"
   ]
  },
  {
   "cell_type": "code",
   "execution_count": 2,
   "id": "67434a6a",
   "metadata": {},
   "outputs": [],
   "source": [
    "import pandas as pd\n",
    "def compareMAP(results, names, originalData):\n",
    "    # create dataframe\n",
    "    numOfTerm = ['1 term', '2 terms', '3 terms']\n",
    "    cols = pd.MultiIndex.from_product([numOfTerm, ['AQUA', 'ES']])\n",
    "    index = pd.Index(['0 typo', '1 del', '1 insert', '1 replace', 'no space', 'no space 1 typo', 'no space 2 typo', 'no space 3 typo', '3 typo'])\n",
    "    df = pd.DataFrame(columns=cols, index=index)\n",
    "    df.index.name = 'Typo'\n",
    "    \n",
    "    # calculate map\n",
    "\n",
    "    for term_num, d1 in results[0].items():\n",
    "        for typo in d1:\n",
    "            tot_ap = 0\n",
    "            for keyword in results[0][term_num][typo]:\n",
    "                value = 0\n",
    "                for i in range(len( results[0][term_num][typo][keyword])):\n",
    "                    if  results[0][term_num][typo][keyword][i] == 1:\n",
    "                        value += sum( results[0][term_num][typo][keyword][:i+1])/(i+1)\n",
    "                ap = 0 if sum( results[0][term_num][typo][keyword])==0 else value / len(originalData[str(term_num)][typo][keyword])\n",
    "                tot_ap += ap\n",
    "            tot_ap2 = 0\n",
    "            for keyword in results[1][term_num][typo]:\n",
    "                value = 0\n",
    "                for i in range(len(results[1][term_num][typo][keyword])):\n",
    "                    if results[1][term_num][typo][keyword][i] == 1:\n",
    "                        value += sum(results[1][term_num][typo][keyword][:i+1])/(i+1)\n",
    "                ap = 0 if sum(results[1][term_num][typo][keyword])==0 else value / len(originalData[str(term_num)][typo][keyword])\n",
    "                tot_ap2 += ap\n",
    "\n",
    "#             print(term_num, ';', typo, ';', tot_ap/len(results[0][term_num][typo]), ';', tot_ap2/len(results[1][term_num][typo]))\n",
    "            plural = 's' if int(term_num)>1 else ''\n",
    "            df.loc[typo][term_num + ' term' + plural][names[0]] = tot_ap/len(results[0][term_num][typo])\n",
    "            df.loc[typo][term_num + ' term' + plural][names[1]] = tot_ap2/len(results[1][term_num][typo])\n",
    "    return df"
   ]
  },
  {
   "cell_type": "code",
   "execution_count": 35,
   "id": "7ab3ecf6",
   "metadata": {},
   "outputs": [
    {
     "data": {
      "text/html": [
       "<div>\n",
       "<style scoped>\n",
       "    .dataframe tbody tr th:only-of-type {\n",
       "        vertical-align: middle;\n",
       "    }\n",
       "\n",
       "    .dataframe tbody tr th {\n",
       "        vertical-align: top;\n",
       "    }\n",
       "\n",
       "    .dataframe thead tr th {\n",
       "        text-align: left;\n",
       "    }\n",
       "\n",
       "    .dataframe thead tr:last-of-type th {\n",
       "        text-align: right;\n",
       "    }\n",
       "</style>\n",
       "<table border=\"1\" class=\"dataframe\">\n",
       "  <thead>\n",
       "    <tr>\n",
       "      <th></th>\n",
       "      <th colspan=\"2\" halign=\"left\">1 term</th>\n",
       "      <th colspan=\"2\" halign=\"left\">2 terms</th>\n",
       "      <th colspan=\"2\" halign=\"left\">3 terms</th>\n",
       "    </tr>\n",
       "    <tr>\n",
       "      <th></th>\n",
       "      <th>AQUA</th>\n",
       "      <th>ES</th>\n",
       "      <th>AQUA</th>\n",
       "      <th>ES</th>\n",
       "      <th>AQUA</th>\n",
       "      <th>ES</th>\n",
       "    </tr>\n",
       "    <tr>\n",
       "      <th>Typo</th>\n",
       "      <th></th>\n",
       "      <th></th>\n",
       "      <th></th>\n",
       "      <th></th>\n",
       "      <th></th>\n",
       "      <th></th>\n",
       "    </tr>\n",
       "  </thead>\n",
       "  <tbody>\n",
       "    <tr>\n",
       "      <th>0 typo</th>\n",
       "      <td>0.714785</td>\n",
       "      <td>0.711452</td>\n",
       "      <td>0.569673</td>\n",
       "      <td>0.569673</td>\n",
       "      <td>0.680431</td>\n",
       "      <td>0.677097</td>\n",
       "    </tr>\n",
       "    <tr>\n",
       "      <th>1 del</th>\n",
       "      <td>0.635935</td>\n",
       "      <td>0.677184</td>\n",
       "      <td>0.555371</td>\n",
       "      <td>0.505849</td>\n",
       "      <td>0.668609</td>\n",
       "      <td>0.653644</td>\n",
       "    </tr>\n",
       "    <tr>\n",
       "      <th>1 insert</th>\n",
       "      <td>0.704785</td>\n",
       "      <td>0.742356</td>\n",
       "      <td>0.56559</td>\n",
       "      <td>0.572663</td>\n",
       "      <td>0.680431</td>\n",
       "      <td>0.661312</td>\n",
       "    </tr>\n",
       "    <tr>\n",
       "      <th>1 replace</th>\n",
       "      <td>0.644126</td>\n",
       "      <td>0.772202</td>\n",
       "      <td>0.548968</td>\n",
       "      <td>0.568364</td>\n",
       "      <td>0.680431</td>\n",
       "      <td>0.646185</td>\n",
       "    </tr>\n",
       "    <tr>\n",
       "      <th>no space</th>\n",
       "      <td>NaN</td>\n",
       "      <td>NaN</td>\n",
       "      <td>0.568006</td>\n",
       "      <td>0.987667</td>\n",
       "      <td>0.667097</td>\n",
       "      <td>0.816667</td>\n",
       "    </tr>\n",
       "    <tr>\n",
       "      <th>no space 1 typo</th>\n",
       "      <td>NaN</td>\n",
       "      <td>NaN</td>\n",
       "      <td>0.559696</td>\n",
       "      <td>0.995918</td>\n",
       "      <td>0.670508</td>\n",
       "      <td>0.056122</td>\n",
       "    </tr>\n",
       "    <tr>\n",
       "      <th>no space 2 typo</th>\n",
       "      <td>NaN</td>\n",
       "      <td>NaN</td>\n",
       "      <td>0.484005</td>\n",
       "      <td>0.056667</td>\n",
       "      <td>0.644305</td>\n",
       "      <td>0.010204</td>\n",
       "    </tr>\n",
       "    <tr>\n",
       "      <th>no space 3 typo</th>\n",
       "      <td>NaN</td>\n",
       "      <td>NaN</td>\n",
       "      <td>0.446296</td>\n",
       "      <td>0.184211</td>\n",
       "      <td>0.589903</td>\n",
       "      <td>0.003472</td>\n",
       "    </tr>\n",
       "    <tr>\n",
       "      <th>3 typo</th>\n",
       "      <td>NaN</td>\n",
       "      <td>NaN</td>\n",
       "      <td>0.540761</td>\n",
       "      <td>0.481212</td>\n",
       "      <td>0.646919</td>\n",
       "      <td>0.621238</td>\n",
       "    </tr>\n",
       "  </tbody>\n",
       "</table>\n",
       "</div>"
      ],
      "text/plain": [
       "                   1 term             2 terms             3 terms          \n",
       "                     AQUA        ES      AQUA        ES      AQUA        ES\n",
       "Typo                                                                       \n",
       "0 typo           0.714785  0.711452  0.569673  0.569673  0.680431  0.677097\n",
       "1 del            0.635935  0.677184  0.555371  0.505849  0.668609  0.653644\n",
       "1 insert         0.704785  0.742356   0.56559  0.572663  0.680431  0.661312\n",
       "1 replace        0.644126  0.772202  0.548968  0.568364  0.680431  0.646185\n",
       "no space              NaN       NaN  0.568006  0.987667  0.667097  0.816667\n",
       "no space 1 typo       NaN       NaN  0.559696  0.995918  0.670508  0.056122\n",
       "no space 2 typo       NaN       NaN  0.484005  0.056667  0.644305  0.010204\n",
       "no space 3 typo       NaN       NaN  0.446296  0.184211  0.589903  0.003472\n",
       "3 typo                NaN       NaN  0.540761  0.481212  0.646919  0.621238"
      ]
     },
     "execution_count": 35,
     "metadata": {},
     "output_type": "execute_result"
    }
   ],
   "source": [
    "## Comparison of AQUA VS ES to keyword queries\n",
    "df = compareMAP([r_aqua, r_es], ['AQUA', 'ES'], datatests)\n",
    "df"
   ]
  },
  {
   "cell_type": "code",
   "execution_count": null,
   "id": "eb8307ad",
   "metadata": {
    "scrolled": true
   },
   "outputs": [],
   "source": [
    "print(df.to_latex())"
   ]
  },
  {
   "cell_type": "code",
   "execution_count": null,
   "id": "be4b0b22",
   "metadata": {
    "scrolled": true
   },
   "outputs": [],
   "source": [
    "from tabulate import tabulate\n",
    "print(tabulate(df, tablefmt=\"pipe\", headers=\"keys\"))"
   ]
  },
  {
   "cell_type": "code",
   "execution_count": 40,
   "id": "086f3dc5",
   "metadata": {},
   "outputs": [
    {
     "data": {
      "text/html": [
       "<div>\n",
       "<style scoped>\n",
       "    .dataframe tbody tr th:only-of-type {\n",
       "        vertical-align: middle;\n",
       "    }\n",
       "\n",
       "    .dataframe tbody tr th {\n",
       "        vertical-align: top;\n",
       "    }\n",
       "\n",
       "    .dataframe thead tr th {\n",
       "        text-align: left;\n",
       "    }\n",
       "\n",
       "    .dataframe thead tr:last-of-type th {\n",
       "        text-align: right;\n",
       "    }\n",
       "</style>\n",
       "<table border=\"1\" class=\"dataframe\">\n",
       "  <thead>\n",
       "    <tr>\n",
       "      <th></th>\n",
       "      <th colspan=\"2\" halign=\"left\">1 term</th>\n",
       "      <th colspan=\"2\" halign=\"left\">2 terms</th>\n",
       "    </tr>\n",
       "    <tr>\n",
       "      <th></th>\n",
       "      <th>AQUA</th>\n",
       "      <th>ES</th>\n",
       "      <th>AQUA</th>\n",
       "      <th>ES</th>\n",
       "    </tr>\n",
       "    <tr>\n",
       "      <th>Typo</th>\n",
       "      <th></th>\n",
       "      <th></th>\n",
       "      <th></th>\n",
       "      <th></th>\n",
       "    </tr>\n",
       "  </thead>\n",
       "  <tbody>\n",
       "    <tr>\n",
       "      <th>0 typo</th>\n",
       "      <td>0.863212</td>\n",
       "      <td>0.897673</td>\n",
       "      <td>0.926911</td>\n",
       "      <td>0.952778</td>\n",
       "    </tr>\n",
       "    <tr>\n",
       "      <th>1 del</th>\n",
       "      <td>0.613025</td>\n",
       "      <td>0.675974</td>\n",
       "      <td>0.818579</td>\n",
       "      <td>0.797889</td>\n",
       "    </tr>\n",
       "    <tr>\n",
       "      <th>1 insert</th>\n",
       "      <td>0.843871</td>\n",
       "      <td>0.914193</td>\n",
       "      <td>0.926944</td>\n",
       "      <td>0.96</td>\n",
       "    </tr>\n",
       "    <tr>\n",
       "      <th>1 replace</th>\n",
       "      <td>0.822374</td>\n",
       "      <td>0.867786</td>\n",
       "      <td>0.913039</td>\n",
       "      <td>0.913265</td>\n",
       "    </tr>\n",
       "    <tr>\n",
       "      <th>no space</th>\n",
       "      <td>NaN</td>\n",
       "      <td>NaN</td>\n",
       "      <td>0.926911</td>\n",
       "      <td>0.1245</td>\n",
       "    </tr>\n",
       "  </tbody>\n",
       "</table>\n",
       "</div>"
      ],
      "text/plain": [
       "             1 term             2 terms          \n",
       "               AQUA        ES      AQUA        ES\n",
       "Typo                                             \n",
       "0 typo     0.863212  0.897673  0.926911  0.952778\n",
       "1 del      0.613025  0.675974  0.818579  0.797889\n",
       "1 insert   0.843871  0.914193  0.926944      0.96\n",
       "1 replace  0.822374  0.867786  0.913039  0.913265\n",
       "no space        NaN       NaN  0.926911    0.1245"
      ]
     },
     "execution_count": 40,
     "metadata": {},
     "output_type": "execute_result"
    }
   ],
   "source": [
    "## Comparison of AQUA VS ES to author queries\n",
    "df = compareMAP([r_a_aqua, r_a_es], ['AQUA', 'ES'], datatests_author)\n",
    "df = df.dropna(axis=1, how='all')\n",
    "df = df.dropna(how='all')\n",
    "df"
   ]
  },
  {
   "cell_type": "code",
   "execution_count": null,
   "id": "183d7d8e",
   "metadata": {
    "scrolled": true
   },
   "outputs": [],
   "source": [
    "print(df.to_latex())"
   ]
  },
  {
   "cell_type": "code",
   "execution_count": null,
   "id": "df0eaa55",
   "metadata": {
    "scrolled": true
   },
   "outputs": [],
   "source": [
    "print(tabulate(df, tablefmt=\"pipe\", headers=\"keys\"))"
   ]
  },
  {
   "cell_type": "code",
   "execution_count": null,
   "id": "70549ac8",
   "metadata": {},
   "outputs": [],
   "source": []
  }
 ],
 "metadata": {
  "kernelspec": {
   "display_name": "Python 3",
   "language": "python",
   "name": "python3"
  },
  "language_info": {
   "codemirror_mode": {
    "name": "ipython",
    "version": 3
   },
   "file_extension": ".py",
   "mimetype": "text/x-python",
   "name": "python",
   "nbconvert_exporter": "python",
   "pygments_lexer": "ipython3",
   "version": "3.9.4"
  }
 },
 "nbformat": 4,
 "nbformat_minor": 5
}
